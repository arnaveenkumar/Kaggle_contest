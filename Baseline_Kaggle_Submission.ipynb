{
  "nbformat": 4,
  "nbformat_minor": 0,
  "metadata": {
    "colab": {
      "name": "ShadowBrokers_SVM_Baseline_Kaggle-Submission.ipynb",
      "version": "0.3.2",
      "provenance": [],
      "collapsed_sections": []
    },
    "kernelspec": {
      "name": "python3",
      "display_name": "Python 3"
    },
    "accelerator": "GPU"
  },
  "cells": [
    {
      "metadata": {
        "id": "l0jGq7Tk4KCb",
        "colab_type": "code",
        "colab": {}
      },
      "cell_type": "code",
      "source": [
        "import numpy as np"
      ],
      "execution_count": 0,
      "outputs": []
    },
    {
      "metadata": {
        "id": "h_k7Ekvu0ag7",
        "colab_type": "code",
        "outputId": "45e1986c-bebe-4b3a-dacd-a6d5fe8bd382",
        "colab": {
          "base_uri": "https://localhost:8080/",
          "height": 125
        }
      },
      "cell_type": "code",
      "source": [
        "from google.colab import drive\n",
        "\n",
        "MOUNT_PATH = \"/content/gdrive\"\n",
        "drive.mount(MOUNT_PATH)"
      ],
      "execution_count": 0,
      "outputs": [
        {
          "output_type": "stream",
          "text": [
            "Go to this URL in a browser: https://accounts.google.com/o/oauth2/auth?client_id=947318989803-6bn6qk8qdgf4n4g3pfee6491hc0brc4i.apps.googleusercontent.com&redirect_uri=urn%3Aietf%3Awg%3Aoauth%3A2.0%3Aoob&scope=email%20https%3A%2F%2Fwww.googleapis.com%2Fauth%2Fdocs.test%20https%3A%2F%2Fwww.googleapis.com%2Fauth%2Fdrive%20https%3A%2F%2Fwww.googleapis.com%2Fauth%2Fdrive.photos.readonly%20https%3A%2F%2Fwww.googleapis.com%2Fauth%2Fpeopleapi.readonly&response_type=code\n",
            "\n",
            "Enter your authorization code:\n",
            "··········\n",
            "Mounted at /content/gdrive\n"
          ],
          "name": "stdout"
        }
      ]
    },
    {
      "metadata": {
        "id": "0Hs4kk7V3gpX",
        "colab_type": "code",
        "outputId": "408d514d-d24e-4735-c9d3-27e579608c11",
        "colab": {
          "base_uri": "https://localhost:8080/",
          "height": 70
        }
      },
      "cell_type": "code",
      "source": [
        "\n",
        "MOUNT_PATH = \"/content/gdrive\"\n",
        "\n",
        "DATA_PATH = MOUNT_PATH + \"/My Drive/Kaggle/data\"\n",
        "\n",
        "train_images = np.load(DATA_PATH + '/train_images.npy', encoding='latin1')\n",
        "print(\"Train data shape : \", train_images.shape)\n",
        "\n",
        "train_labels = np.genfromtxt(DATA_PATH + '/train_labels.csv', names=True, delimiter=',', dtype=[('Id', 'i8'), ('Category', 'S5')])\n",
        "print(\"Train labels shape : \", train_labels.shape)\n",
        "\n",
        "test_images = np.load(DATA_PATH + '/test_images.npy', encoding='latin1')\n",
        "print(\"Test data shape : \", test_images.shape)"
      ],
      "execution_count": 0,
      "outputs": [
        {
          "output_type": "stream",
          "text": [
            "Train data shape :  (10000, 2)\n",
            "Train labels shape :  (10000,)\n",
            "Test data shape :  (10000, 2)\n"
          ],
          "name": "stdout"
        }
      ]
    },
    {
      "metadata": {
        "id": "jRjz9rLa9x3M",
        "colab_type": "code",
        "colab": {}
      },
      "cell_type": "code",
      "source": [
        "def extract_column(array, index=1):\n",
        "  return np.array([array[i][index] for i in range(len(array))])"
      ],
      "execution_count": 0,
      "outputs": []
    },
    {
      "metadata": {
        "id": "6w5WaMIv4Hx8",
        "colab_type": "code",
        "outputId": "f59e17d8-1c04-4c60-b107-8445434f4f32",
        "colab": {
          "base_uri": "https://localhost:8080/",
          "height": 34
        }
      },
      "cell_type": "code",
      "source": [
        "X = extract_column(train_images, 1)\n",
        "X.shape"
      ],
      "execution_count": 0,
      "outputs": [
        {
          "output_type": "execute_result",
          "data": {
            "text/plain": [
              "(10000, 10000)"
            ]
          },
          "metadata": {
            "tags": []
          },
          "execution_count": 5
        }
      ]
    },
    {
      "metadata": {
        "id": "KPlhmOPP16Wg",
        "colab_type": "code",
        "outputId": "d47b55f1-1344-4e0f-ca7e-522558d220d0",
        "colab": {
          "base_uri": "https://localhost:8080/",
          "height": 34
        }
      },
      "cell_type": "code",
      "source": [
        "T = extract_column(test_images, 1)\n",
        "T.shape"
      ],
      "execution_count": 0,
      "outputs": [
        {
          "output_type": "execute_result",
          "data": {
            "text/plain": [
              "(10000, 10000)"
            ]
          },
          "metadata": {
            "tags": []
          },
          "execution_count": 6
        }
      ]
    },
    {
      "metadata": {
        "id": "lGCtVzc8_EKy",
        "colab_type": "code",
        "outputId": "b01785d3-b5a6-4b14-a77c-4eac48ee9c60",
        "colab": {
          "base_uri": "https://localhost:8080/",
          "height": 34
        }
      },
      "cell_type": "code",
      "source": [
        "labels = extract_column(train_labels, 1)\n",
        "labels.shape"
      ],
      "execution_count": 0,
      "outputs": [
        {
          "output_type": "execute_result",
          "data": {
            "text/plain": [
              "(10000,)"
            ]
          },
          "metadata": {
            "tags": []
          },
          "execution_count": 7
        }
      ]
    },
    {
      "metadata": {
        "id": "GNyT11rh6deL",
        "colab_type": "code",
        "outputId": "4f0b6f69-1219-4e3f-db6e-2f9307522e55",
        "colab": {
          "base_uri": "https://localhost:8080/",
          "height": 141
        }
      },
      "cell_type": "code",
      "source": [
        "category_bytes = np.unique(labels)\n",
        "\n",
        "print(\"Original category labels : \",category_bytes)\n",
        "    \n",
        "categories = {}\n",
        "\n",
        "for i in range(len(category_bytes)):\n",
        "    categories[category_bytes[i]] = i  \n",
        "    \n",
        "print(\"\\n\\nIntegerized labels : \",categories.values())"
      ],
      "execution_count": 0,
      "outputs": [
        {
          "output_type": "stream",
          "text": [
            "Original category labels :  [b'apple' b'empty' b'moust' b'mouth' b'mug' b'nail' b'nose' b'octag'\n",
            " b'paint' b'panda' b'parro' b'peanu' b'pear' b'penci' b'pengu' b'pillo'\n",
            " b'pinea' b'pool' b'rabbi' b'rhino' b'rifle' b'rolle' b'sailb' b'scorp'\n",
            " b'screw' b'shove' b'sink' b'skate' b'skull' b'spoon' b'squig']\n",
            "\n",
            "\n",
            "Integerized labels :  dict_values([0, 1, 2, 3, 4, 5, 6, 7, 8, 9, 10, 11, 12, 13, 14, 15, 16, 17, 18, 19, 20, 21, 22, 23, 24, 25, 26, 27, 28, 29, 30])\n"
          ],
          "name": "stdout"
        }
      ]
    },
    {
      "metadata": {
        "id": "Nm9lAylM8jju",
        "colab_type": "code",
        "colab": {}
      },
      "cell_type": "code",
      "source": [
        "y = np.array([ categories[label] for label in labels])  "
      ],
      "execution_count": 0,
      "outputs": []
    },
    {
      "metadata": {
        "id": "vL-kg9j_9LDp",
        "colab_type": "code",
        "outputId": "d4f5cae6-6c21-498d-c77b-ebb87f2e662b",
        "colab": {
          "base_uri": "https://localhost:8080/",
          "height": 52
        }
      },
      "cell_type": "code",
      "source": [
        "print(\"X.shape = \",X.shape)\n",
        "print(\"y.shape = \",y.shape)"
      ],
      "execution_count": 0,
      "outputs": [
        {
          "output_type": "stream",
          "text": [
            "X.shape =  (10000, 10000)\n",
            "y.shape =  (10000,)\n"
          ],
          "name": "stdout"
        }
      ]
    },
    {
      "metadata": {
        "id": "lvLTRfyz9lgf",
        "colab_type": "code",
        "colab": {}
      },
      "cell_type": "code",
      "source": [
        "def split_data(X,y,test_percentage = 25,validation = False):\n",
        "\n",
        "  split_index = (100 - test_percentage) * len(X) // 100\n",
        "\n",
        "  X_train, X_test = X[:split_index], X[split_index:]\n",
        "  y_train, y_test = y[:split_index], y[split_index:]\n",
        "  \n",
        "  if(not validation):\n",
        "    return (X_train, y_train), (X_test, y_test)\n",
        "  else:\n",
        "    \n",
        "    split_index = (100 - test_percentage) * len(X_train) // 100\n",
        "    \n",
        "    X_train, X_valid = X_train[:split_index], X_train[split_index:]\n",
        "    y_train, y_valid = y_train[:split_index], y_train[split_index:]\n",
        "    \n",
        "    return (X_train, y_train), (X_test, y_test), (X_valid, y_valid)\n"
      ],
      "execution_count": 0,
      "outputs": []
    },
    {
      "metadata": {
        "id": "5oSFLtrABaa6",
        "colab_type": "code",
        "colab": {}
      },
      "cell_type": "code",
      "source": [
        "def get_datasets(X,y):\n",
        "  \n",
        "  X = np.take(X,np.random.permutation(X.shape[0]),axis=0,out=X)\n",
        "  \n",
        "  (X_train, y_train), (X_test, y_test) = split_data(X,y)\n",
        "\n",
        "  print(\"X_train.shape = \",X_train.shape)\n",
        "  print(\"y_train.shape = \",y_train.shape)\n",
        "\n",
        "  print(\"X_test.shape = \",X_test.shape)\n",
        "  print(\"y_test.shape = \",y_test.shape)\n",
        "  \n",
        "  return (X_train, y_train), (X_test, y_test)"
      ],
      "execution_count": 0,
      "outputs": []
    },
    {
      "metadata": {
        "id": "szkpbxVVBvrK",
        "colab_type": "code",
        "colab": {}
      },
      "cell_type": "code",
      "source": [
        "import numpy as np\n",
        "import matplotlib.pyplot as plt\n",
        "from matplotlib import style\n",
        "style.use(\"ggplot\")\n",
        "from sklearn import svm\n",
        "from sklearn.neighbors import KNeighborsClassifier\n",
        "from sklearn.decomposition import PCA\n",
        "from sklearn.metrics import accuracy_score\n",
        "from sklearn.ensemble import RandomForestClassifier"
      ],
      "execution_count": 0,
      "outputs": []
    },
    {
      "metadata": {
        "id": "TmWdov1lCEuB",
        "colab_type": "code",
        "colab": {}
      },
      "cell_type": "code",
      "source": [
        "def run_linear_SVM(C=1.0):\n",
        "  (X_train, y_train), (X_test, y_test) = get_datasets(X,y)\n",
        "  clf = svm.SVC(kernel='linear', C = C)\n",
        "  fit = clf.fit(X_train,y_train)\n",
        "  prediction = clf.predict(X_test)\n",
        "  accuracy = accuracy_score(y_test, prediction)\n",
        "\n",
        "  print(\"Accuracy score using Linear SVM = \", accuracy)\n",
        "  \n",
        "  "
      ],
      "execution_count": 0,
      "outputs": []
    },
    {
      "metadata": {
        "id": "aZkcgSqYCYPw",
        "colab_type": "code",
        "colab": {}
      },
      "cell_type": "code",
      "source": [
        "def transform_images_to_monochrome(X):\n",
        "  return (X<127).astype(np.int)\n",
        "    \n",
        "def normalize_images(X):\n",
        "  return np.array([x/255.0 for x in X])\n",
        "\n",
        "def center_images(X):\n",
        "  return np.array([(x-np.mean(x))/np.std(x) for x in X])\n",
        "    "
      ],
      "execution_count": 0,
      "outputs": []
    },
    {
      "metadata": {
        "id": "b8rc7N9_D8HA",
        "colab_type": "code",
        "outputId": "7c83d6ef-e05c-4806-af60-c049a8275609",
        "colab": {
          "base_uri": "https://localhost:8080/",
          "height": 34
        }
      },
      "cell_type": "code",
      "source": [
        "import tensorflow as tf\n",
        "tf.test.gpu_device_name()"
      ],
      "execution_count": 0,
      "outputs": [
        {
          "output_type": "execute_result",
          "data": {
            "text/plain": [
              "'/device:GPU:0'"
            ]
          },
          "metadata": {
            "tags": []
          },
          "execution_count": 16
        }
      ]
    },
    {
      "metadata": {
        "id": "S7cwYbjcFolg",
        "colab_type": "code",
        "colab": {}
      },
      "cell_type": "code",
      "source": [
        "X = transform_images_to_monochrome(X)"
      ],
      "execution_count": 0,
      "outputs": []
    },
    {
      "metadata": {
        "id": "jHH3fFMoTMdM",
        "colab_type": "code",
        "outputId": "91a072a2-70cc-48d9-8b5b-08b44ef97f55",
        "colab": {
          "base_uri": "https://localhost:8080/",
          "height": 34
        }
      },
      "cell_type": "code",
      "source": [
        "run_linear_SVM(C=1.0)"
      ],
      "execution_count": 0,
      "outputs": [
        {
          "output_type": "stream",
          "text": [
            "Accuracy score using Linear SVM =  0.0504\n"
          ],
          "name": "stdout"
        }
      ]
    },
    {
      "metadata": {
        "id": "IyAjh1nMafsx",
        "colab_type": "code",
        "outputId": "0c15d859-24d4-43cd-84c4-80bbb8d8f66b",
        "colab": {
          "base_uri": "https://localhost:8080/",
          "height": 34
        }
      },
      "cell_type": "code",
      "source": [
        "run_linear_SVM(C=1000.0)"
      ],
      "execution_count": 0,
      "outputs": [
        {
          "output_type": "stream",
          "text": [
            "Accuracy score using Linear SVM =  0.0504\n"
          ],
          "name": "stdout"
        }
      ]
    },
    {
      "metadata": {
        "id": "ve1LKk-_a5V3",
        "colab_type": "code",
        "outputId": "6854a56f-a166-4ef7-b3a2-58ecbda2a67e",
        "colab": {
          "base_uri": "https://localhost:8080/",
          "height": 34
        }
      },
      "cell_type": "code",
      "source": [
        "run_linear_SVM(C=100.0)"
      ],
      "execution_count": 0,
      "outputs": [
        {
          "output_type": "stream",
          "text": [
            "Accuracy score using Linear SVM =  0.0504\n"
          ],
          "name": "stdout"
        }
      ]
    },
    {
      "metadata": {
        "id": "t94rJjLZhxyt",
        "colab_type": "code",
        "outputId": "c39e61eb-c135-40d5-ef18-98cc20d03588",
        "colab": {
          "base_uri": "https://localhost:8080/",
          "height": 34
        }
      },
      "cell_type": "code",
      "source": [
        "run_linear_SVM(C=0.5)"
      ],
      "execution_count": 0,
      "outputs": [
        {
          "output_type": "stream",
          "text": [
            "Accuracy score using Linear SVM =  0.0504\n"
          ],
          "name": "stdout"
        }
      ]
    },
    {
      "metadata": {
        "id": "g940TdS3pxDK",
        "colab_type": "code",
        "outputId": "234c738e-55d0-4a66-d330-f61221ed6e10",
        "colab": {
          "base_uri": "https://localhost:8080/",
          "height": 34
        }
      },
      "cell_type": "code",
      "source": [
        "run_linear_SVM(C=10)"
      ],
      "execution_count": 0,
      "outputs": [
        {
          "output_type": "stream",
          "text": [
            "Accuracy score using Linear SVM =  0.0504\n"
          ],
          "name": "stdout"
        }
      ]
    },
    {
      "metadata": {
        "id": "bJaImN2jyVFc",
        "colab_type": "code",
        "colab": {}
      },
      "cell_type": "code",
      "source": [
        "def final_linear_SVM(C=1.0):\n",
        " \n",
        "  clf = svm.SVC(kernel='linear', C = C)\n",
        "  fit = clf.fit(normalize_images(X),y)\n",
        "  prediction = clf.predict(normalize_images(T))\n",
        "\n",
        "  print(\"DONE\")\n",
        "  \n",
        "  return prediction\n",
        "  \n"
      ],
      "execution_count": 0,
      "outputs": []
    },
    {
      "metadata": {
        "id": "PgZnVOaVz7Ie",
        "colab_type": "code",
        "colab": {}
      },
      "cell_type": "code",
      "source": [
        "def final_random_classifier():\n",
        " \n",
        "  clf = RandomForestClassifier(n_jobs=4, random_state=0)\n",
        "  fit = clf.fit(normalize_images(X),y)\n",
        "  prediction = clf.predict(normalize_images(T))\n",
        "\n",
        "  print(\"DONE\")\n",
        "  \n",
        "  return prediction\n"
      ],
      "execution_count": 0,
      "outputs": []
    },
    {
      "metadata": {
        "id": "a5RGw_c01zZ8",
        "colab_type": "code",
        "colab": {}
      },
      "cell_type": "code",
      "source": [
        "['apple' 'empty' 'moust', 'mouth', 'mug', 'nail', 'nose', 'octag', 'paint', 'panda', 'parro', 'peanu', 'pear', 'penci' b'pengu' b'pillo'\n",
        " b'pinea' b'pool' b'rabbi' b'rhino' b'rifle' b'rolle' b'sailb' b'scorp'\n",
        " b'screw' b'shove' b'sink' b'skate' b'skull' b'spoon' b'squig']"
      ],
      "execution_count": 0,
      "outputs": []
    },
    {
      "metadata": {
        "id": "f_uGxmSB3CaX",
        "colab_type": "code",
        "outputId": "9c5e9eb6-bf79-41b2-8bb6-66517afced47",
        "colab": {
          "base_uri": "https://localhost:8080/",
          "height": 34
        }
      },
      "cell_type": "code",
      "source": [
        "prediction = final_linear_SVM()"
      ],
      "execution_count": 0,
      "outputs": [
        {
          "output_type": "stream",
          "text": [
            "DONE\n"
          ],
          "name": "stdout"
        }
      ]
    },
    {
      "metadata": {
        "id": "qq199-Q5ylf_",
        "colab_type": "code",
        "colab": {}
      },
      "cell_type": "code",
      "source": [
        "ys = [str(category_bytes[int(p)]).split(\"'\")[1] for p in prediction]"
      ],
      "execution_count": 0,
      "outputs": []
    },
    {
      "metadata": {
        "id": "kKn5cuDybXoe",
        "colab_type": "code",
        "colab": {}
      },
      "cell_type": "code",
      "source": [
        "import pandas as pd \n",
        "\n",
        "ys = np.array([str(category_bytes[int(p)]).split(\"'\")[1] for p in prediction])\n",
        "ids = np.array(range(10000))\n",
        "\n",
        "sub_df = pd.DataFrame({'Id':ids,'Category':ys})\n",
        "sub_df[['Id','Category']].to_csv(DATA_PATH +'/baseline_svm_submission.csv', index=False)"
      ],
      "execution_count": 0,
      "outputs": []
    }
  ]
}